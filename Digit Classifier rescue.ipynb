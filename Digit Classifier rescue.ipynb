{
 "cells": [
  {
   "cell_type": "code",
   "execution_count": null,
   "metadata": {},
   "outputs": [],
   "source": [
    "from keras.models import Model\n",
    "from keras.layers import Conv2D, MaxPooling2D\n",
    "from keras.layers import Activation, Dropout, Dense, Flatten, Input, BatchNormalization, ZeroPadding2D, AveragePooling2D\n",
    "\n",
    "\n",
    "visible = Input(shape=(224, 224, 3))\n",
    "\n",
    "conv1 = Conv2D(16, (3,3), padding='same', kernel_initializer = 'normal', activation='relu')(visible)\n",
    "normal1 = BatchNormalization()(conv1)\n",
    "pool1 = MaxPooling2D(pool_size=(2,2))(normal1)\n",
    "conv2 = Conv2D(32, (3,3), padding='same', kernel_initializer = 'normal', activation='relu')(pool1)\n",
    "normal2 = BatchNormalization()(conv2)\n",
    "pool2 = MaxPooling2D(pool_size=(2,2), strides=(2,2))(normal2)\n",
    "\n",
    "conv3 = Conv2D(16, (1,1), kernel_initializer = 'normal', activation='relu')(pool2)\n",
    "normal3 = BatchNormalization()(conv3)\n",
    "conv4 = Conv2D(128, (3,3), padding='same', kernel_initializer = 'normal', activation='relu')(normal3)\n",
    "normal4 = BatchNormalization()(conv4)\n",
    "conv5 = Conv2D(16, (1,1), kernel_initializer = 'normal', activation='relu')(normal4)\n",
    "normal5 = BatchNormalization()(conv5)\n",
    "\n",
    "conv6 = Conv2D(128, (3,3), padding='same', kernel_initializer = 'normal', activation='relu')(normal5)\n",
    "normal6 = BatchNormalization()(conv6)\n",
    "pool6 = MaxPooling2D(pool_size=(2,2))(normal6)\n",
    "\n",
    "conv7 = Conv2D(32, (1,1), kernel_initializer = 'normal', activation='relu')(pool6)\n",
    "normal7 = BatchNormalization()(conv7)\n",
    "conv8 = Conv2D(256, (3,3),padding='same', kernel_initializer = 'normal', activation='relu')(normal7)\n",
    "normal8 = BatchNormalization()(conv8)\n",
    "conv9 = Conv2D(32, (1,1), kernel_initializer = 'normal', activation='relu')(normal8)\n",
    "normal9 = BatchNormalization()(conv9)\n",
    "conv10 = Conv2D(256, (3,3), padding='same', kernel_initializer = 'normal', activation='relu')(normal9)\n",
    "normal10 = BatchNormalization()(conv10)\n",
    "pool8 = MaxPooling2D(pool_size=(4,4), strides=(4,4))(normal10)\n",
    "\n",
    "avg = AveragePooling2D((7,7))(pool8)\n",
    "\n",
    "output1 = Conv2D(11, (1,1), kernel_initializer = 'normal', activation = 'softmax')(avg)\n",
    "output2 = Conv2D(11, (1,1),  kernel_initializer = 'normal', activation = 'softmax')(avg)\n",
    "output3 = Conv2D(11, (1,1), kernel_initializer = 'normal', activation = 'softmax')(avg)\n",
    "output4 = Conv2D(11, (1,1), kernel_initializer = 'normal', activation = 'softmax')(avg)\n",
    "\n",
    "model = Model(inputs = visible, outputs = [output1, output2, output3, output4])\n",
    "\n",
    "model.compile(optimizer='adam', loss=['categorical_crossentropy', 'categorical_crossentropy', 'categorical_crossentropy','categorical_crossentropy'], metrics=['accuracy'])\n",
    "model.summary()\n"
   ]
  },
  {
   "cell_type": "code",
   "execution_count": null,
   "metadata": {},
   "outputs": [],
   "source": [
    "import os\n",
    "\n",
    "def load_paths(path):\n",
    "    paths = []\n",
    "    for file in os.listdir(path):\n",
    "        if file == '.DS_Store':\n",
    "            continue\n",
    "        paths += [path +'/'+ file]\n",
    "    return paths"
   ]
  },
  {
   "cell_type": "code",
   "execution_count": null,
   "metadata": {},
   "outputs": [],
   "source": [
    "training_data_paths = load_paths('digits data/boards held4/training')\n",
    "validation_data_paths = load_paths('digits data/boards held4/validation')"
   ]
  },
  {
   "cell_type": "code",
   "execution_count": null,
   "metadata": {},
   "outputs": [],
   "source": [
    "import cv2 \n",
    "import numpy as np\n",
    "\n",
    "def get_input(path):\n",
    "    img = cv2.imread(path)\n",
    "    return img "
   ]
  },
  {
   "cell_type": "code",
   "execution_count": null,
   "metadata": {},
   "outputs": [],
   "source": [
    "def preprocess_input(img):\n",
    "    #brightness, rotate, shear of random values \n",
    "    beta = np.random.randint(50)\n",
    "    new_img = cv2.convertScaleAbs(img, alpha=1.0, beta=beta)\n",
    "    return new_img"
   ]
  },
  {
   "cell_type": "code",
   "execution_count": null,
   "metadata": {},
   "outputs": [],
   "source": [
    "def get_output(path):\n",
    "    output1 = np.zeros((1,1,11))\n",
    "    output2 = np.zeros((1,1,11))\n",
    "    output3 = np.zeros((1,1,11))\n",
    "    output4 = np.zeros((1,1,11))\n",
    "    \n",
    "    img_id = path.split('-')[-1].split('.')[0]\n",
    "    label = np.load('digits data/labels2/label_'+img_id+'.npy')\n",
    "    \n",
    "    output1[0][0][label[0]] = 1\n",
    "    output2[0][0][label[1]] = 1\n",
    "    output3[0][0][label[2]] = 1\n",
    "    output4[0][0][label[3]] = 1\n",
    "    \n",
    "    return output1, output2, output3, output4"
   ]
  },
  {
   "cell_type": "code",
   "execution_count": null,
   "metadata": {},
   "outputs": [],
   "source": [
    "def image_generator(files, batch_size):\n",
    "    \n",
    "    while True:\n",
    "        # Select files (paths/indices) for the batch\n",
    "        batch_paths = np.random.choice(a = files, \n",
    "                                         size = batch_size)\n",
    "        batch_input = []\n",
    "        batch_output1 = [] \n",
    "        batch_output2 = []\n",
    "        batch_output3 = []\n",
    "        batch_output4 = []\n",
    "          \n",
    "        # Read in each input, perform preprocessing and get labels\n",
    "        for input_path in batch_paths:\n",
    "            img = get_input(input_path)\n",
    "            batch_output = get_output(input_path)\n",
    "\n",
    "            new_img = preprocess_input(img) \n",
    "            batch_input += [ new_img ]\n",
    "            batch_output1 += [ batch_output[0] ]\n",
    "            batch_output2 += [ batch_output[1] ]\n",
    "            batch_output3 += [ batch_output[2] ]\n",
    "            batch_output4 += [ batch_output[3] ]\n",
    "            \n",
    "        # Return a tuple of (input,output) to feed the network\n",
    "        batch_x = np.array( batch_input )\n",
    "        batch_y1 = np.array( batch_output1 )\n",
    "        batch_y2 = np.array( batch_output2 )\n",
    "        batch_y3 = np.array( batch_output3 )\n",
    "        batch_y4 = np.array( batch_output4 )\n",
    "        \n",
    "        yield( batch_x, [batch_y1, batch_y2, batch_y3, batch_y4])"
   ]
  },
  {
   "cell_type": "code",
   "execution_count": null,
   "metadata": {},
   "outputs": [],
   "source": [
    "batch_size = 32\n",
    "\n",
    "training_gen = image_generator(training_data_paths, batch_size)\n",
    "validation_gen = image_generator(validation_data_paths, batch_size)"
   ]
  },
  {
   "cell_type": "code",
   "execution_count": null,
   "metadata": {},
   "outputs": [],
   "source": [
    "model.fit_generator(training_gen, steps_per_epoch=125, epochs=5, validation_data=validation_gen, \n",
    "                   validation_steps=20)"
   ]
  },
  {
   "cell_type": "code",
   "execution_count": null,
   "metadata": {},
   "outputs": [],
   "source": [
    "import h5py \n",
    "model.save_weights('src/first_try_digits.h5')"
   ]
  },
  {
   "cell_type": "code",
   "execution_count": null,
   "metadata": {},
   "outputs": [],
   "source": [
    "import cv2 \n",
    "import matplotlib.pyplot as plt\n",
    "for i, path in enumerate(validation_img_paths) : \n",
    "    \n",
    "    #rd = np.random.randint(500, 4500)\n",
    "    if(i<5):\n",
    "        img = get_input(path)\n",
    "        img = preprocess_input(img)\n",
    "        img = cv2.cvtColor(img, cv2.COLOR_BGR2RGB)\n",
    "        plt.imshow(img)\n",
    "        out = get_output(path)\n",
    "        print(out)"
   ]
  },
  {
   "cell_type": "code",
   "execution_count": null,
   "metadata": {},
   "outputs": [],
   "source": [
    "out = get_output('digits data/boards held/training/data_'+str(rd)+'.jpg')\n",
    "print(out)"
   ]
  },
  {
   "cell_type": "code",
   "execution_count": null,
   "metadata": {},
   "outputs": [],
   "source": [
    "img = get_input('digits data/boards held4/training/data_4-12700.jpg')\n",
    "print(img.size)"
   ]
  },
  {
   "cell_type": "code",
   "execution_count": null,
   "metadata": {},
   "outputs": [],
   "source": [
    "import cv2 \n",
    "import matplotlib.pyplot as plt \n",
    "import numpy as np\n",
    "\n",
    "\n",
    "print(get_output('digits data/boards2/training/board_12843.jpg')[0][0][0])"
   ]
  },
  {
   "cell_type": "code",
   "execution_count": null,
   "metadata": {},
   "outputs": [],
   "source": [
    "questions : \n",
    "    in the get_output does the 4 np.zeros(11) make the thing longer ? allocate memory elsewhere ???\n",
    "    where to do the maxpool ? how many ?\n",
    "    max number of parameters ? \n",
    "    \n",
    "    \n",
    "    224 x 224 \n",
    "    \n",
    "    4 max pools\n",
    "    "
   ]
  },
  {
   "cell_type": "code",
   "execution_count": null,
   "metadata": {},
   "outputs": [],
   "source": []
  },
  {
   "cell_type": "code",
   "execution_count": null,
   "metadata": {},
   "outputs": [],
   "source": []
  },
  {
   "cell_type": "code",
   "execution_count": null,
   "metadata": {},
   "outputs": [],
   "source": []
  },
  {
   "cell_type": "code",
   "execution_count": null,
   "metadata": {},
   "outputs": [],
   "source": []
  },
  {
   "cell_type": "code",
   "execution_count": null,
   "metadata": {},
   "outputs": [],
   "source": []
  },
  {
   "cell_type": "code",
   "execution_count": null,
   "metadata": {},
   "outputs": [],
   "source": []
  },
  {
   "cell_type": "code",
   "execution_count": null,
   "metadata": {},
   "outputs": [],
   "source": []
  },
  {
   "cell_type": "code",
   "execution_count": null,
   "metadata": {},
   "outputs": [],
   "source": []
  },
  {
   "cell_type": "code",
   "execution_count": null,
   "metadata": {},
   "outputs": [],
   "source": []
  },
  {
   "cell_type": "code",
   "execution_count": null,
   "metadata": {},
   "outputs": [],
   "source": []
  }
 ],
 "metadata": {
  "kernelspec": {
   "display_name": "Python 3",
   "language": "python",
   "name": "python3"
  },
  "language_info": {
   "codemirror_mode": {
    "name": "ipython",
    "version": 3
   },
   "file_extension": ".py",
   "mimetype": "text/x-python",
   "name": "python",
   "nbconvert_exporter": "python",
   "pygments_lexer": "ipython3",
   "version": "3.7.1"
  }
 },
 "nbformat": 4,
 "nbformat_minor": 2
}
