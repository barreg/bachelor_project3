{
 "cells": [
  {
   "cell_type": "markdown",
   "metadata": {},
   "source": [
    "# Digits Data Creation\n"
   ]
  },
  {
   "cell_type": "markdown",
   "metadata": {},
   "source": [
    "Resize all my digits to the same size"
   ]
  },
  {
   "cell_type": "code",
   "execution_count": 1,
   "metadata": {},
   "outputs": [
    {
     "ename": "ModuleNotFoundError",
     "evalue": "No module named 'cv2'",
     "output_type": "error",
     "traceback": [
      "\u001b[0;31m---------------------------------------------------------------------------\u001b[0m",
      "\u001b[0;31mModuleNotFoundError\u001b[0m                       Traceback (most recent call last)",
      "\u001b[0;32m<ipython-input-1-63a52bc483ff>\u001b[0m in \u001b[0;36m<module>\u001b[0;34m\u001b[0m\n\u001b[0;32m----> 1\u001b[0;31m \u001b[0;32mimport\u001b[0m \u001b[0mcv2\u001b[0m\u001b[0;34m\u001b[0m\u001b[0;34m\u001b[0m\u001b[0m\n\u001b[0m\u001b[1;32m      2\u001b[0m \u001b[0;34m\u001b[0m\u001b[0m\n\u001b[1;32m      3\u001b[0m \u001b[0mrect\u001b[0m \u001b[0;34m=\u001b[0m \u001b[0mcv2\u001b[0m\u001b[0;34m.\u001b[0m\u001b[0mimread\u001b[0m\u001b[0;34m(\u001b[0m\u001b[0;34m'rect.png'\u001b[0m\u001b[0;34m)\u001b[0m\u001b[0;34m\u001b[0m\u001b[0;34m\u001b[0m\u001b[0m\n\u001b[1;32m      4\u001b[0m \u001b[0mrect\u001b[0m \u001b[0;34m=\u001b[0m \u001b[0mcv2\u001b[0m\u001b[0;34m.\u001b[0m\u001b[0mresize\u001b[0m\u001b[0;34m(\u001b[0m\u001b[0mrect\u001b[0m\u001b[0;34m,\u001b[0m \u001b[0;34m(\u001b[0m\u001b[0;36m320\u001b[0m\u001b[0;34m,\u001b[0m \u001b[0;36m120\u001b[0m\u001b[0;34m)\u001b[0m\u001b[0;34m)\u001b[0m\u001b[0;34m\u001b[0m\u001b[0;34m\u001b[0m\u001b[0m\n\u001b[1;32m      5\u001b[0m \u001b[0;34m\u001b[0m\u001b[0m\n",
      "\u001b[0;31mModuleNotFoundError\u001b[0m: No module named 'cv2'"
     ]
    }
   ],
   "source": [
    "import cv2 \n",
    "\n",
    "\n",
    "rect = cv2.imread('rect.png')\n",
    "rect = cv2.resize(rect, (320, 120))\n",
    "\n",
    "for i in range(21):\n",
    "    digit = cv2.imread('digits data/digits/digits2/'+str(i)+'.jpg')\n",
    "    digit = cv2.resize(digit, (80,120))\n",
    "    cv2.imwrite('digits data/digits/digits2/new_'+str(i)+'.png', digit)"
   ]
  },
  {
   "cell_type": "markdown",
   "metadata": {},
   "source": [
    "place them randomly on a black screen "
   ]
  },
  {
   "cell_type": "code",
   "execution_count": 3,
   "metadata": {},
   "outputs": [],
   "source": [
    "import cv2\n",
    "import numpy as np\n",
    "import random\n",
    "\n",
    "\n",
    "#shininess?\n",
    "rect = cv2.imread('rect.png')\n",
    "\n",
    "for i in range (5000):\n",
    "    a = np.random.randint(11, size=2)\n",
    "    b = np.random.randint(10, 21, size=2)\n",
    "    switch = bool(random.getrandbits(1))\n",
    "    if(switch):\n",
    "        a, b =  b, a \n",
    "    digit = cv2.imread('digits data/digits/new_'+str(a[0])+'.png')\n",
    "    rect[0:120, 0:80]= digit \n",
    "    digit2 = cv2.imread('digits data/digits/new_'+str(a[1])+'.png')\n",
    "    rect[0:120, 80:160]= digit2\n",
    "    digit3 = cv2.imread('digits data/digits/new_'+str(b[0])+'.png')\n",
    "    rect[0:120, 160:240]= digit3\n",
    "    digit4 = cv2.imread('digits data/digits/new_'+str(b[1])+'.png')\n",
    "    rect[0:120, 240:320]= digit4\n",
    "\n",
    "    if(switch):\n",
    "        a -=11\n",
    "        a[a<0]=10\n",
    "        labels = [a[0], a[1], b[0], b[1]]\n",
    "    else : \n",
    "        b -=11\n",
    "        b[b<0]=10\n",
    "        labels = [b[0], b[1], a[0], a[1]]\n",
    "\n",
    "    #always shows: (red1, red2, green1, green2), but the order on the board can be switched\n",
    "\n",
    "\n",
    "\n",
    "    np.save('digits data/numbers/label_'+str(i), labels)\n",
    "\n",
    "\n",
    "    cv2.imwrite('digits data/boards/board_'+str(i)+'.jpg', rect)\n",
    "    #cv2.imshow('one', rect)\n",
    "    #cv2.waitKey(0)"
   ]
  },
  {
   "cell_type": "markdown",
   "metadata": {},
   "source": [
    "Place the digits on the board"
   ]
  },
  {
   "cell_type": "code",
   "execution_count": null,
   "metadata": {},
   "outputs": [],
   "source": [
    "import cv2\n",
    "import numpy as np\n",
    "\n",
    "\n",
    "rect = cv2.imread('rect.png')\n",
    "for i in range(11):\n",
    "    for j in range(11):\n",
    "        for k in range(11):\n",
    "            for l in range(11):\n",
    "                digit1 = cv2.imread('digits data/digits/digits2/new_'+str(i+10)+'.png')\n",
    "                rect[0:120, 0:80]= digit1 \n",
    "                digit2 = cv2.imread('digits data/digits/digits2/new_'+str(j+10)+'.png')\n",
    "                rect[0:120, 80:160]= digit2\n",
    "                digit3 = cv2.imread('digits data/digits/digits2/new_'+str(k)+'.png')\n",
    "                rect[0:120, 160:240]= digit3\n",
    "                digit4 = cv2.imread('digits data/digits/digits2/new_'+str(l)+'.png')\n",
    "                rect[0:120, 240:320]= digit4\n",
    "                \n",
    "                labels = [(i-1)%11, (j-1)%11, k, l]\n",
    "                \n",
    "                np.save('digits data/labels2/label_'+str(i*11**3 + j*11**2 + k*11 + l), labels)\n",
    "                cv2.imwrite('digits data/boards3/board_'+str(i*11**3 + j*11**2 + k*11 + l)+'.jpg', rect)\n",
    "    "
   ]
  },
  {
   "cell_type": "markdown",
   "metadata": {},
   "source": [
    "place digits on a ref"
   ]
  },
  {
   "cell_type": "code",
   "execution_count": 2,
   "metadata": {},
   "outputs": [],
   "source": [
    "import cv2\n",
    "import numpy as np\n",
    "\n",
    "def place_digits(ref, board, transformation, idx):\n",
    "    img = cv2.imread(ref)\n",
    "    img2 = cv2.imread(board)\n",
    "    img2 = cv2.GaussianBlur(img2,(5,5),0)\n",
    "\n",
    "\n",
    "    pts1 = np.float32(transformation)\n",
    "    pts2 = np.float32([[0,0],[320,0],[0,120],[320,120]])\n",
    "\n",
    "    h, status = cv2.findHomography(pts2, pts1)\n",
    "\n",
    "    dst = cv2.warpPerspective(img2, h, (img.shape[1], img.shape[0]))\n",
    "\n",
    "    mask = dst==0\n",
    "\n",
    "    dst = img*mask + dst\n",
    "    dst = cv2.GaussianBlur(dst, (5,5), 0)\n",
    "    \n",
    "    board_id = board.split\n",
    "    \n",
    "    cv2.imwrite('test.jpg', dst)\n",
    "\n"
   ]
  },
  {
   "cell_type": "code",
   "execution_count": 68,
   "metadata": {},
   "outputs": [],
   "source": [
    "counter = 0\n",
    "for i in range(500):\n",
    "    ref_idx = np.random.randint(11, 13)\n",
    "    #board_idx = np.random.randint(500)\n",
    "    ref = 'board data/board held/ref_'+str(ref_idx)+'.jpg'\n",
    "    board = 'digits data/boards/validation/board_'+str(i)+'.jpg'\n",
    "    place_digits(ref, board, transformations[ref_idx-1], i)    "
   ]
  },
  {
   "cell_type": "code",
   "execution_count": 2,
   "metadata": {},
   "outputs": [],
   "source": [
    "import argparse\n",
    "import cv2\n",
    " \n",
    "refPt = []\n",
    "\n",
    "def get_point(event, x, y, flags, param):\n",
    "    global refPt \n",
    "    \n",
    "    # if the left mouse button was clicked, record the starting (x, y) coordinates\n",
    "    if (event == cv2.EVENT_LBUTTONDOWN):\n",
    "        refPt += [[x, y]]   "
   ]
  },
  {
   "cell_type": "code",
   "execution_count": 3,
   "metadata": {},
   "outputs": [
    {
     "name": "stdout",
     "output_type": "stream",
     "text": [
      "[[119, 97], [148, 84], [125, 108], [157, 94]]\n"
     ]
    }
   ],
   "source": [
    "import cv2 \n",
    "# load the image, clone it, and setup the mouse callback function\n",
    "image = cv2.imread('ref_test.jpg')\n",
    "clone = image.copy()\n",
    "cv2.namedWindow(\"image\")\n",
    "cv2.setMouseCallback(\"image\", get_point)\n",
    "\n",
    "# keep looping until the 'c' key is pressed\n",
    "while True:\n",
    "    # display the image and wait for a keypress\n",
    "    cv2.imshow(\"image\", image)\n",
    "    key = cv2.waitKey(1) & 0xFF\n",
    "\n",
    "    # if the 'c' key is pressed, break from the loop\n",
    "    if key == ord(\"c\"):\n",
    "        break\n",
    "\n",
    "if len(refPt) == 4:\n",
    "    print(refPt)\n"
   ]
  },
  {
   "cell_type": "code",
   "execution_count": 53,
   "metadata": {},
   "outputs": [
    {
     "name": "stdout",
     "output_type": "stream",
     "text": [
      "[[262, 65], [631, 66], [261, 230], [627, 232]]\n"
     ]
    }
   ],
   "source": [
    "transformations = []\n",
    "transformations += [[[119, 97], [148, 84], [125, 108], [157, 94]]]\n",
    "transformations += []\n",
    "transformations += []\n",
    "transformations += []\n",
    "transformations += []\n",
    "transformations += []\n",
    "transformations += []\n",
    "transformations += []\n",
    "transformations += []\n",
    "transformations += []\n",
    "transformations += []\n",
    "transformations += []\n",
    "            \n",
    "print(transformations[2])"
   ]
  },
  {
   "cell_type": "code",
   "execution_count": 14,
   "metadata": {},
   "outputs": [
    {
     "name": "stdout",
     "output_type": "stream",
     "text": [
      "[4 5 4 3]\n"
     ]
    }
   ],
   "source": [
    "label = np.load('digits data/labels2/label_7428.npy')\n",
    "print(label)"
   ]
  },
  {
   "cell_type": "code",
   "execution_count": null,
   "metadata": {},
   "outputs": [],
   "source": [
    "[[119, 97], [148, 84], [125, 108], [157, 94]]"
   ]
  },
  {
   "cell_type": "code",
   "execution_count": 13,
   "metadata": {},
   "outputs": [],
   "source": [
    "ref = 'ref_test.jpg'\n",
    "board = 'digits data/boards2/training/board_7428.jpg'\n",
    "M = [[119, 97], [148, 84], [125, 108], [157, 94]]\n",
    "place_digits(ref, board, M, 1) "
   ]
  },
  {
   "cell_type": "code",
   "execution_count": 19,
   "metadata": {},
   "outputs": [
    {
     "data": {
      "text/plain": [
       "True"
      ]
     },
     "execution_count": 19,
     "metadata": {},
     "output_type": "execute_result"
    }
   ],
   "source": [
    "import cv2 \n",
    "def resize_img(ref, size, idx)\n",
    "    img = cv2.imread(ref)\n",
    "    mid_y = int(img.shape[0]/2)\n",
    "    mid_x = int(img.shape[1]/2)\n",
    "    img = img[mid_y-size/2: mid_y+size/2, mid_x-size/2:mid_x+size/2]\n",
    "    cv2.imwrite('digits data/refs/ref_'+str(idx)+'.jpg', img)"
   ]
  },
  {
   "cell_type": "code",
   "execution_count": null,
   "metadata": {},
   "outputs": [],
   "source": [
    "import cv2 \n",
    "import numpy as np\n",
    "\n",
    "ref = cv2.imread('digits data/refs/ref_3.jpg')\n",
    "beta = np.random.randint(50)\n",
    "new_img = cv2.convertScaleAbs(ref, alpha=1.0, beta=50)\n",
    "cv2.imshow('ref', new_img)\n",
    "cv2.waitKey(0)"
   ]
  },
  {
   "cell_type": "code",
   "execution_count": null,
   "metadata": {},
   "outputs": [],
   "source": []
  },
  {
   "cell_type": "code",
   "execution_count": null,
   "metadata": {},
   "outputs": [],
   "source": []
  }
 ],
 "metadata": {
  "kernelspec": {
   "display_name": "Python 3",
   "language": "python",
   "name": "python3"
  },
  "language_info": {
   "codemirror_mode": {
    "name": "ipython",
    "version": 3
   },
   "file_extension": ".py",
   "mimetype": "text/x-python",
   "name": "python",
   "nbconvert_exporter": "python",
   "pygments_lexer": "ipython3",
   "version": "3.7.1"
  }
 },
 "nbformat": 4,
 "nbformat_minor": 2
}
