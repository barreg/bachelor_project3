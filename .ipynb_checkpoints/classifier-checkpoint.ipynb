{
 "cells": [
  {
   "cell_type": "markdown",
   "metadata": {},
   "source": [
    "define the model (classic binary classifier)"
   ]
  },
  {
   "cell_type": "code",
   "execution_count": 11,
   "metadata": {},
   "outputs": [
    {
     "name": "stdout",
     "output_type": "stream",
     "text": [
      "_________________________________________________________________\n",
      "Layer (type)                 Output Shape              Param #   \n",
      "=================================================================\n",
      "conv2d_30 (Conv2D)           (None, 222, 222, 16)      448       \n",
      "_________________________________________________________________\n",
      "max_pooling2d_29 (MaxPooling (None, 111, 111, 16)      0         \n",
      "_________________________________________________________________\n",
      "conv2d_31 (Conv2D)           (None, 109, 109, 32)      4640      \n",
      "_________________________________________________________________\n",
      "max_pooling2d_30 (MaxPooling (None, 54, 54, 32)        0         \n",
      "_________________________________________________________________\n",
      "conv2d_32 (Conv2D)           (None, 52, 52, 32)        9248      \n",
      "_________________________________________________________________\n",
      "max_pooling2d_31 (MaxPooling (None, 26, 26, 32)        0         \n",
      "_________________________________________________________________\n",
      "flatten_10 (Flatten)         (None, 21632)             0         \n",
      "_________________________________________________________________\n",
      "dense_19 (Dense)             (None, 32)                692256    \n",
      "_________________________________________________________________\n",
      "dropout_10 (Dropout)         (None, 32)                0         \n",
      "_________________________________________________________________\n",
      "dense_20 (Dense)             (None, 1)                 33        \n",
      "=================================================================\n",
      "Total params: 706,625\n",
      "Trainable params: 706,625\n",
      "Non-trainable params: 0\n",
      "_________________________________________________________________\n"
     ]
    }
   ],
   "source": [
    "from keras.models import Sequential\n",
    "from keras.layers import Conv2D, MaxPooling2D\n",
    "from keras.layers import Activation, Dropout, Dense, Flatten\n",
    "\n",
    "model = Sequential()\n",
    "model.add(Conv2D(16, (3,3), activation='relu', input_shape=(224, 224, 3)))\n",
    "model.add(MaxPooling2D(pool_size=(2, 2)))\n",
    "\n",
    "model.add(Conv2D(32, (3,3), activation='relu'))\n",
    "model.add(MaxPooling2D(pool_size=(2, 2)))\n",
    "\n",
    "model.add(Conv2D(32, (3,3), activation='relu'))\n",
    "model.add(MaxPooling2D(pool_size=(2, 2)))\n",
    "\n",
    "model.add(Flatten())\n",
    "model.add(Dense(32, activation='relu'))\n",
    "model.add(Dropout(0.5))\n",
    "model.add(Dense(1, activation='sigmoid'))\n",
    "\n",
    "model.compile(loss=\"binary_crossentropy\", optimizer=\"rmsprop\", metrics=[\"accuracy\"])\n",
    "\n",
    "model.summary()"
   ]
  },
  {
   "cell_type": "markdown",
   "metadata": {},
   "source": [
    "define the image generators using keras preprocessing "
   ]
  },
  {
   "cell_type": "code",
   "execution_count": 29,
   "metadata": {},
   "outputs": [],
   "source": [
    "import os \n",
    "import cv2\n",
    "from keras.preprocessing.image import ImageDataGenerator, array_to_img, img_to_array, load_img\n",
    "\n",
    "datagen = ImageDataGenerator(rotation_range=40, width_shift_range=0.2, height_shift_range=0.2, shear_range=0.2,\n",
    "                                zoom_range=0.2, fill_mode='nearest')\n",
    "\n",
    "for img in os.listdir('board data/final/negatives/training'):\n",
    "    if img == '.DS_Store':\n",
    "        continue\n",
    "    img = load_img('board data/final/negatives/training/'+img)  \n",
    "    x = img_to_array(img)  \n",
    "    x = x.reshape((1,)+x.shape)  \n",
    "    \n",
    "    i = 0\n",
    "    for batch in datagen.flow(x, batch_size=1, save_to_dir='board data/final/training/neg', save_prefix='neg', save_format='jpg'):\n",
    "        i += 1\n",
    "        if i > 100:\n",
    "            break "
   ]
  },
  {
   "cell_type": "code",
   "execution_count": 30,
   "metadata": {},
   "outputs": [
    {
     "name": "stdout",
     "output_type": "stream",
     "text": [
      "Found 10491 images belonging to 2 classes.\n",
      "Found 1551 images belonging to 2 classes.\n"
     ]
    }
   ],
   "source": [
    "batch_size = 32\n",
    "\n",
    "train_datagen = ImageDataGenerator(rescale=1./255, shear_range=0.2, zoom_range=0.2)\n",
    "\n",
    "test_datagen = ImageDataGenerator(rescale=1./255)\n",
    "\n",
    "train_generator = train_datagen.flow_from_directory(\"board data/final/training\", target_size=(224,224), \n",
    "                                                   batch_size=batch_size, class_mode=\"binary\")\n",
    "\n",
    "validation_generator = test_datagen.flow_from_directory(\"board data/final/validation\", target_size=(224, 224), \n",
    "                                                       batch_size = batch_size, class_mode = \"binary\")"
   ]
  },
  {
   "cell_type": "markdown",
   "metadata": {},
   "source": [
    "fit the model "
   ]
  },
  {
   "cell_type": "code",
   "execution_count": 31,
   "metadata": {},
   "outputs": [
    {
     "name": "stdout",
     "output_type": "stream",
     "text": [
      "WARNING:tensorflow:From /anaconda3/lib/python3.7/site-packages/tensorflow/python/ops/math_ops.py:3066: to_int32 (from tensorflow.python.ops.math_ops) is deprecated and will be removed in a future version.\n",
      "Instructions for updating:\n",
      "Use tf.cast instead.\n",
      "Epoch 1/5\n",
      "62/62 [==============================] - 116s 2s/step - loss: 0.7417 - acc: 0.5524 - val_loss: 0.6843 - val_acc: 0.5687\n",
      "Epoch 2/5\n",
      "62/62 [==============================] - 116s 2s/step - loss: 0.6640 - acc: 0.6048 - val_loss: 0.8151 - val_acc: 0.5645\n",
      "Epoch 3/5\n",
      "62/62 [==============================] - 123s 2s/step - loss: 0.6535 - acc: 0.6215 - val_loss: 0.5556 - val_acc: 0.7325\n",
      "Epoch 4/5\n",
      "62/62 [==============================] - 154s 2s/step - loss: 0.5925 - acc: 0.6845 - val_loss: 0.5489 - val_acc: 0.6705\n",
      "Epoch 5/5\n",
      "62/62 [==============================] - 270s 4s/step - loss: 0.5737 - acc: 0.7293 - val_loss: 0.5341 - val_acc: 0.7812\n"
     ]
    },
    {
     "data": {
      "text/plain": [
       "<keras.callbacks.History at 0xb2d30c208>"
      ]
     },
     "execution_count": 31,
     "metadata": {},
     "output_type": "execute_result"
    }
   ],
   "source": [
    "model.fit_generator(train_generator, steps_per_epoch=2000 // batch_size, epochs=5, validation_data=validation_generator, \n",
    "                   validation_steps=800 // batch_size)"
   ]
  },
  {
   "cell_type": "markdown",
   "metadata": {},
   "source": [
    "save the weights"
   ]
  },
  {
   "cell_type": "code",
   "execution_count": 6,
   "metadata": {},
   "outputs": [],
   "source": [
    "import h5py \n",
    "model.save_weights('src/first_try.h5')"
   ]
  },
  {
   "cell_type": "markdown",
   "metadata": {},
   "source": [
    "test the model"
   ]
  },
  {
   "cell_type": "code",
   "execution_count": 37,
   "metadata": {},
   "outputs": [
    {
     "name": "stdout",
     "output_type": "stream",
     "text": [
      "Found 1 images belonging to 1 classes.\n"
     ]
    },
    {
     "data": {
      "text/plain": [
       "array([[1.]], dtype=float32)"
      ]
     },
     "execution_count": 37,
     "metadata": {},
     "output_type": "execute_result"
    }
   ],
   "source": [
    "test_generator = test_datagen.flow_from_directory(\"board data/testing\", target_size=(150,150), \n",
    "                                                   batch_size=batch_size, class_mode=\"binary\")\n",
    "\n",
    "model.predict_generator(test_generator, steps = len(test_generator))"
   ]
  }
 ],
 "metadata": {
  "kernelspec": {
   "display_name": "Python 3",
   "language": "python",
   "name": "python3"
  },
  "language_info": {
   "codemirror_mode": {
    "name": "ipython",
    "version": 3
   },
   "file_extension": ".py",
   "mimetype": "text/x-python",
   "name": "python",
   "nbconvert_exporter": "python",
   "pygments_lexer": "ipython3",
   "version": "3.7.1"
  }
 },
 "nbformat": 4,
 "nbformat_minor": 2
}
