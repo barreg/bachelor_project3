{
 "cells": [
  {
   "cell_type": "markdown",
   "metadata": {},
   "source": [
    "#### Place_ref is a function that takes a cropped out referee and a stadium and that places the referee in 24 different positions across the picture of the stadium. Then each image is saved to create some data. "
   ]
  },
  {
   "cell_type": "code",
   "execution_count": 19,
   "metadata": {},
   "outputs": [],
   "source": [
    "import numpy as np\n",
    "import cv2\n",
    "from matplotlib import pyplot as plt\n",
    "\n",
    "def place_ref(stadium, ref, index):\n",
    "    x=40\n",
    "    for i in range (2):\n",
    "        y=40\n",
    "        for j in range (4):\n",
    "            \n",
    "            # Load a color image in grayscale\n",
    "            l_img = cv2.imread(stadium)\n",
    "            s_img = cv2.imread(ref)\n",
    "            \n",
    "            #I create a ROI\n",
    "            rows,cols,channels = x+160, y+120, 3\n",
    "            roi = l_img[x:rows, y:cols]\n",
    "\n",
    "            # Now create a mask of ref and create its inverse mask\n",
    "            img2gray = cv2.cvtColor(s_img,cv2.COLOR_BGR2GRAY)\n",
    "\n",
    "            # add a threshold\n",
    "            ret, mask = cv2.threshold(img2gray, 220, 255, cv2.THRESH_BINARY_INV)\n",
    "\n",
    "            mask_inv = cv2.bitwise_not(mask)\n",
    "\n",
    "            # Now black-out the area of ref in ROI\n",
    "            l_img_bg = cv2.bitwise_and(roi,roi,mask = mask_inv)\n",
    "\n",
    "            # Take only region of ref from ref image.\n",
    "            s_img_fg = cv2.bitwise_and(s_img,s_img,mask = mask)\n",
    "\n",
    "            dst = cv2.add(l_img_bg,s_img_fg)\n",
    "            l_img[x:rows, y:cols ] = dst\n",
    "            \n",
    "            x_offset = np.random.randint(40)\n",
    "            y_offset = np.random.randint(40)\n",
    "            \n",
    "            final_img = l_img[x-x_offset:rows+x_offset, y-y_offset: cols+y_offset]\n",
    "            blur = cv2.GaussianBlur(final_img,(3,3),0)\n",
    "            \n",
    "            #save image\n",
    "            cv2.imwrite('small_data'+str(index+i*4+j)+'.jpg', final_img)\n",
    "            \n",
    "            y+=120\n",
    "        x+=160\n",
    "            \n",
    "\n"
   ]
  },
  {
   "cell_type": "markdown",
   "metadata": {},
   "source": [
    "We use loops to iterate over all referees and all stadiums and we have created our training and testing data."
   ]
  },
  {
   "cell_type": "code",
   "execution_count": 20,
   "metadata": {},
   "outputs": [],
   "source": [
    "a=0\n",
    "for i in range (1,9):\n",
    "    for j in range (1,17):\n",
    "       place_ref('resized'+str(j)+'.jpg', 'resized_ref'+str(i)+'.jpg', a)\n",
    "       a+=8 \n"
   ]
  },
  {
   "cell_type": "markdown",
   "metadata": {},
   "source": [
    "Resize all refs to 120x160 to stick them easily on a background"
   ]
  },
  {
   "cell_type": "code",
   "execution_count": 2,
   "metadata": {},
   "outputs": [],
   "source": [
    "import cv2\n",
    "for i in range(1,11):\n",
    "    img = cv2.imread(str(i)+'.jpg')\n",
    "    new_img = cv2.resize(img, (120, 160))\n",
    "    cv2.imwrite(\"resized_ref\"+str(i)+\".jpg\", new_img)"
   ]
  },
  {
   "cell_type": "code",
   "execution_count": 12,
   "metadata": {},
   "outputs": [],
   "source": [
    "import cv2\n",
    "import numpy as np\n",
    "from keras.preprocessing.image import ImageDataGenerator, array_to_img, img_to_array, load_img\n",
    "\n",
    "datagen = ImageDataGenerator(\n",
    "        rotation_range=40,\n",
    "        width_shift_range=0.2,\n",
    "        height_shift_range=0.2,\n",
    "        shear_range=0.2,\n",
    "        zoom_range=0.2,\n",
    "        horizontal_flip=True,\n",
    "        fill_mode='nearest')\n",
    "\n",
    "for i in range(6):\n",
    "    img = cv2.imread('true'+str(i)+'.jpg')  \n",
    "    img = cv2.resize(img, (np.random.randint(80, 160), np.random.randint(120,200)))\n",
    "    img = cv2.cvtColor(img,cv2.COLOR_BGR2RGB)\n",
    "    x = img_to_array(img)\n",
    "    x2 = x.reshape((1,) + x.shape)\n",
    "    j = 0\n",
    "    for batch in datagen.flow(x2, batch_size=1, save_to_dir='Documents/Semestre 6/Project/data/problems/false positives'\n",
    "                              ,save_prefix='extra', save_format='jpg'):\n",
    "        j += 1\n",
    "        if j > 10:\n",
    "            break "
   ]
  },
  {
   "cell_type": "code",
   "execution_count": 18,
   "metadata": {},
   "outputs": [
    {
     "data": {
      "text/plain": [
       "True"
      ]
     },
     "execution_count": 18,
     "metadata": {},
     "output_type": "execute_result"
    }
   ],
   "source": [
    "img = cv2.imread('bail.jpg')  \n",
    "img = cv2.resize(img, (np.random.randint(80, 160), np.random.randint(120,200)))\n",
    "cv2.imwrite('boyzi3.jpg', img)"
   ]
  },
  {
   "cell_type": "code",
   "execution_count": null,
   "metadata": {},
   "outputs": [],
   "source": []
  }
 ],
 "metadata": {
  "kernelspec": {
   "display_name": "Python 3",
   "language": "python",
   "name": "python3"
  },
  "language_info": {
   "codemirror_mode": {
    "name": "ipython",
    "version": 3
   },
   "file_extension": ".py",
   "mimetype": "text/x-python",
   "name": "python",
   "nbconvert_exporter": "python",
   "pygments_lexer": "ipython3",
   "version": "3.7.1"
  }
 },
 "nbformat": 4,
 "nbformat_minor": 2
}
