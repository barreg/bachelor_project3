{
 "cells": [
  {
   "cell_type": "markdown",
   "metadata": {},
   "source": [
    "Resize all my digits to the same size"
   ]
  },
  {
   "cell_type": "code",
   "execution_count": 1,
   "metadata": {},
   "outputs": [],
   "source": [
    "import cv2 \n",
    "\n",
    "rect = cv2.imread('rect.png')\n",
    "rect = cv2.resize(rect, (320, 120))\n",
    "\n",
    "for i in range(21):\n",
    "    digit = cv2.imread(str(i)+'.png')\n",
    "    digit = cv2.resize(digit, (80,120))\n",
    "    cv2.imwrite('digits data/digits/new_'+str(i)+'.png', digit)"
   ]
  },
  {
   "cell_type": "markdown",
   "metadata": {},
   "source": [
    "place them randomly on a black screen "
   ]
  },
  {
   "cell_type": "code",
   "execution_count": 3,
   "metadata": {},
   "outputs": [],
   "source": [
    "import cv2\n",
    "import numpy as np\n",
    "import random\n",
    "\n",
    "\n",
    "#shininess?\n",
    "rect = cv2.imread('rect.png')\n",
    "\n",
    "for i in range (5000):\n",
    "    a = np.random.randint(11, size=2)\n",
    "    b = np.random.randint(10, 21, size=2)\n",
    "    switch = bool(random.getrandbits(1))\n",
    "    if(switch):\n",
    "        a, b =  b, a \n",
    "    digit = cv2.imread('digits data/digits/new_'+str(a[0])+'.png')\n",
    "    rect[0:120, 0:80]= digit \n",
    "    digit2 = cv2.imread('digits data/digits/new_'+str(a[1])+'.png')\n",
    "    rect[0:120, 80:160]= digit2\n",
    "    digit3 = cv2.imread('digits data/digits/new_'+str(b[0])+'.png')\n",
    "    rect[0:120, 160:240]= digit3\n",
    "    digit4 = cv2.imread('digits data/digits/new_'+str(b[1])+'.png')\n",
    "    rect[0:120, 240:320]= digit4\n",
    "\n",
    "    if(switch):\n",
    "        a -=11\n",
    "        a[a<0]=10\n",
    "        labels = [a[0], a[1], b[0], b[1]]\n",
    "    else : \n",
    "        b -=11\n",
    "        b[b<0]=10\n",
    "        labels = [b[0], b[1], a[0], a[1]]\n",
    "\n",
    "    #always shows: (red1, red2, green1, green2), but the order on the board can be switched\n",
    "\n",
    "\n",
    "\n",
    "    np.save('digits data/numbers/label_'+str(i), labels)\n",
    "\n",
    "\n",
    "    cv2.imwrite('digits data/boards/board_'+str(i)+'.jpg', rect)\n",
    "    #cv2.imshow('one', rect)\n",
    "    #cv2.waitKey(0)"
   ]
  },
  {
   "cell_type": "code",
   "execution_count": 1,
   "metadata": {},
   "outputs": [
    {
     "ename": "AttributeError",
     "evalue": "'NoneType' object has no attribute 'shape'",
     "output_type": "error",
     "traceback": [
      "\u001b[0;31m---------------------------------------------------------------------------\u001b[0m",
      "\u001b[0;31mAttributeError\u001b[0m                            Traceback (most recent call last)",
      "\u001b[0;32m<ipython-input-1-b971afdad62c>\u001b[0m in \u001b[0;36m<module>\u001b[0;34m\u001b[0m\n\u001b[1;32m      3\u001b[0m \u001b[0;34m\u001b[0m\u001b[0m\n\u001b[1;32m      4\u001b[0m \u001b[0mimg\u001b[0m \u001b[0;34m=\u001b[0m \u001b[0mcv2\u001b[0m\u001b[0;34m.\u001b[0m\u001b[0mimread\u001b[0m\u001b[0;34m(\u001b[0m\u001b[0;34m'girl_ref.jpg'\u001b[0m\u001b[0;34m)\u001b[0m\u001b[0;34m\u001b[0m\u001b[0;34m\u001b[0m\u001b[0m\n\u001b[0;32m----> 5\u001b[0;31m \u001b[0mprint\u001b[0m\u001b[0;34m(\u001b[0m\u001b[0mimg\u001b[0m\u001b[0;34m.\u001b[0m\u001b[0mshape\u001b[0m\u001b[0;34m)\u001b[0m\u001b[0;34m\u001b[0m\u001b[0;34m\u001b[0m\u001b[0m\n\u001b[0m\u001b[1;32m      6\u001b[0m \u001b[0mimg2\u001b[0m \u001b[0;34m=\u001b[0m \u001b[0mcv2\u001b[0m\u001b[0;34m.\u001b[0m\u001b[0mimread\u001b[0m\u001b[0;34m(\u001b[0m\u001b[0;34m'board.jpg'\u001b[0m\u001b[0;34m)\u001b[0m\u001b[0;34m\u001b[0m\u001b[0;34m\u001b[0m\u001b[0m\n\u001b[1;32m      7\u001b[0m \u001b[0mprint\u001b[0m\u001b[0;34m(\u001b[0m\u001b[0mimg2\u001b[0m\u001b[0;34m.\u001b[0m\u001b[0mshape\u001b[0m\u001b[0;34m)\u001b[0m\u001b[0;34m\u001b[0m\u001b[0;34m\u001b[0m\u001b[0m\n",
      "\u001b[0;31mAttributeError\u001b[0m: 'NoneType' object has no attribute 'shape'"
     ]
    }
   ],
   "source": [
    "import cv2\n",
    "import numpy as np\n",
    "\n",
    "img = cv2.imread('girl_ref.jpg')\n",
    "print(img.shape)\n",
    "img2 = cv2.imread('board.jpg')\n",
    "print(img2.shape)\n",
    "\n",
    "pts1 = np.float32([[465,57],[590,43],[470,120],[597,106]])\n",
    "pts2 = np.float32([[0,0],[300,0],[0,150],[300,150]])\n",
    "\n",
    "M = cv2.getPerspectiveTransform(pts2,pts1)\n",
    "\n",
    "dst = cv2.warpPerspective(img,np.linalg.inv(M),(1024,683))\n",
    "\n",
    "dst[0:120, 0:320] = img2\n",
    "\n",
    "final = cv2.warpPerspective(dst, M, (1024, 683))\n",
    "\n",
    "\n",
    "#rows,cols,ch = 450, 40, 3\n",
    "#roi = img[40:120,450:600]\n",
    "#img[45:115,450:600] = 0\n",
    "\n",
    "#dst2 = dst[40:120,450:600]\n",
    "#dst2[dst2<30] = 255\n",
    "#dst2 = cv2.cvtColor(dst2,cv2.COLOR_BGR2RGB)\n",
    "#img2gray = cv2.cvtColor(dst2,cv2.COLOR_RGB2GRAY)\n",
    "\n",
    "\n",
    "#ret, mask = cv2.threshold(img2gray, 220, 255, cv2.THRESH_BINARY_INV)\n",
    "\n",
    "#mask_inv = cv2.bitwise_not(mask)\n",
    "#print(mask_inv.shape)\n",
    "#print(roi.shape)\n",
    "\n",
    "#l_img_bg = cv2.bitwise_and(roi,roi,mask = mask_inv)\n",
    "\n",
    "#s_img_fg = cv2.bitwise_and(dst2,dst2,mask = mask)\n",
    "\n",
    "#dst = cv2.add(l_img_bg,s_img_fg)\n",
    "\n",
    "#img[45:112,460:600] = dst[45:112,460:600]\n",
    "\n",
    "cv2.imshow('dst', final)\n",
    "cv2.waitKey(0)"
   ]
  },
  {
   "cell_type": "code",
   "execution_count": 2,
   "metadata": {},
   "outputs": [],
   "source": []
  },
  {
   "cell_type": "code",
   "execution_count": null,
   "metadata": {},
   "outputs": [],
   "source": []
  }
 ],
 "metadata": {
  "kernelspec": {
   "display_name": "Python 3",
   "language": "python",
   "name": "python3"
  },
  "language_info": {
   "codemirror_mode": {
    "name": "ipython",
    "version": 3
   },
   "file_extension": ".py",
   "mimetype": "text/x-python",
   "name": "python",
   "nbconvert_exporter": "python",
   "pygments_lexer": "ipython3",
   "version": "3.7.1"
  }
 },
 "nbformat": 4,
 "nbformat_minor": 2
}
